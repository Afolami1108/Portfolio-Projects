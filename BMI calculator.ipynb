{
 "cells": [
  {
   "cell_type": "code",
   "execution_count": null,
   "id": "4ca6e248-ce3b-4739-9d7e-ded27fa94b46",
   "metadata": {},
   "outputs": [],
   "source": [
    "# BMI Calculator"
   ]
  },
  {
   "cell_type": "code",
   "execution_count": 7,
   "id": "5b432197-aa9e-4d47-a8fd-839b68cd4d70",
   "metadata": {},
   "outputs": [
    {
     "name": "stdin",
     "output_type": "stream",
     "text": [
      "Enter your name: Afolami\n",
      "Enter your weight in pounds: 170\n",
      "Enter your height in inches: 75\n"
     ]
    },
    {
     "name": "stdout",
     "output_type": "stream",
     "text": [
      "21.246222222222222\n",
      "Afolami,You are normal weight.\n"
     ]
    }
   ],
   "source": [
    "Name = input(\"Enter your name:\")\n",
    "\n",
    "Weight = int(input(\"Enter your weight in pounds:\"))\n",
    "\n",
    "Height = int(input(\"Enter your height in inches:\"))\n",
    "\n",
    "BMI = (Weight * 703) / (Height * Height)\n",
    "\n",
    "print(BMI)\n",
    "\n",
    "if BMI>0:\n",
    "    if(BMI<18.5):\n",
    "        print(Name +\",You are underweight.\")\n",
    "    elif(BMI<=24.9):\n",
    "        print(Name +\",You are normal weight.\")\n",
    "    elif(BMI<=29.9):\n",
    "        print(Name +\",You are overerweight.\")\n",
    "    elif(BMI<=34.9):\n",
    "        print(Name +\",You are Obese.\")\n",
    "    elif(BMI<=39.9):\n",
    "        print(Name +\",You are Severely Obese.\")\n",
    "    else:\n",
    "        print(Name +\",You are Morbidly obese.\")\n",
    "else:\n",
    "    print(\"Enter Valid Input.\")\n",
    "    "
   ]
  },
  {
   "cell_type": "code",
   "execution_count": null,
   "id": "2964eeb8-a022-470b-8df5-10629bfa13cc",
   "metadata": {},
   "outputs": [],
   "source": []
  }
 ],
 "metadata": {
  "kernelspec": {
   "display_name": "Python 3 (ipykernel)",
   "language": "python",
   "name": "python3"
  },
  "language_info": {
   "codemirror_mode": {
    "name": "ipython",
    "version": 3
   },
   "file_extension": ".py",
   "mimetype": "text/x-python",
   "name": "python",
   "nbconvert_exporter": "python",
   "pygments_lexer": "ipython3",
   "version": "3.12.4"
  }
 },
 "nbformat": 4,
 "nbformat_minor": 5
}
